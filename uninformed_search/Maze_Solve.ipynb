{
  "nbformat": 4,
  "nbformat_minor": 0,
  "metadata": {
    "colab": {
      "provenance": [],
      "authorship_tag": "ABX9TyPHlHuXqdvqSIw2t6gQ9pDa",
      "include_colab_link": true
    },
    "kernelspec": {
      "name": "python3",
      "display_name": "Python 3"
    },
    "language_info": {
      "name": "python"
    }
  },
  "cells": [
    {
      "cell_type": "markdown",
      "metadata": {
        "id": "view-in-github",
        "colab_type": "text"
      },
      "source": [
        "<a href=\"https://colab.research.google.com/github/Liza-IITP/Intro_To_AI_Python/blob/main/Maze_Solve.ipynb\" target=\"_parent\"><img src=\"https://colab.research.google.com/assets/colab-badge.svg\" alt=\"Open In Colab\"/></a>"
      ]
    },
    {
      "cell_type": "code",
      "execution_count": 20,
      "metadata": {
        "id": "-THW8e_dQOeW"
      },
      "outputs": [],
      "source": [
        "class Node():\n",
        "    def __init__(self, state, parent, action):\n",
        "        self.state = state\n",
        "        self.parent = parent\n",
        "        self.action = action\n",
        "\n",
        "\n",
        "class StackFrontier():\n",
        "    def __init__(self):\n",
        "        self.frontier = []\n",
        "\n",
        "    def add(self, node):\n",
        "        self.frontier.append(node)\n",
        "\n",
        "    def contains_state(self, state):\n",
        "        return any(node.state == state for node in self.frontier)\n",
        "\n",
        "    def empty(self):\n",
        "        return len(self.frontier) == 0\n",
        "\n",
        "    def remove(self):\n",
        "        if self.empty():\n",
        "            raise Exception(\"empty frontier\")\n",
        "        else:\n",
        "            node = self.frontier[-1]\n",
        "            self.frontier = self.frontier[:-1]\n",
        "            return node\n",
        "\n",
        "\n",
        "class QueueFrontier(StackFrontier):\n",
        "\n",
        "    def remove(self):\n",
        "        if self.empty():\n",
        "            raise Exception(\"empty frontier\")\n",
        "        else:\n",
        "            node = self.frontier[0]\n",
        "            self.frontier = self.frontier[1:]\n",
        "            return node\n"
      ]
    },
    {
      "cell_type": "code",
      "source": [
        "maze_str = [\n",
        "    \"#___G\",\n",
        "    \"#____\",\n",
        "    \"___#_\",\n",
        "    \"_#___\",\n",
        "    \"S__##\"\n",
        "]\n",
        "\n",
        "\n",
        "\n",
        "\n",
        "\n",
        "maze = []\n",
        "start = None\n",
        "goal = None\n",
        "\n",
        "for i, row in enumerate(maze_str):\n",
        "    maze_row = []\n",
        "    for j, ch in enumerate(row):\n",
        "        if ch == \"#\":\n",
        "            maze_row.append(1)\n",
        "        else:\n",
        "            maze_row.append(0)\n",
        "        if ch == \"S\":\n",
        "            start = (i, j)\n",
        "        if ch == \"G\":\n",
        "            goal = (i, j)\n",
        "    maze.append(maze_row)\n",
        "\n",
        "print(\"Maze grid:\", maze)\n",
        "print(\"Start:\", start)\n",
        "print(\"Goal:\", goal)\n"
      ],
      "metadata": {
        "colab": {
          "base_uri": "https://localhost:8080/"
        },
        "id": "BnCBgCy0TA2t",
        "outputId": "f4eeeee5-82a9-4b87-b656-eeaee20cb85e"
      },
      "execution_count": 21,
      "outputs": [
        {
          "output_type": "stream",
          "name": "stdout",
          "text": [
            "Maze grid: [[1, 0, 0, 0, 0], [1, 0, 0, 0, 0], [0, 0, 0, 1, 0], [0, 1, 0, 0, 0], [0, 0, 0, 1, 1]]\n",
            "Start: (4, 0)\n",
            "Goal: (0, 4)\n"
          ]
        }
      ]
    },
    {
      "cell_type": "code",
      "source": [
        "actions = {\n",
        "    \"UP\": (-1, 0),\n",
        "    \"DOWN\": (1, 0),\n",
        "    \"LEFT\": (0, -1),\n",
        "    \"RIGHT\": (0, 1)\n",
        "}\n",
        "rows, cols = len(maze), len(maze[0])\n",
        "def solve_maze(maze, start, goal, use_dfs=True):\n",
        "    if use_dfs:\n",
        "        frontier = StackFrontier()\n",
        "    else:\n",
        "        frontier = QueueFrontier()\n",
        "\n",
        "    start_node = Node(state=start, parent=None, action=None)\n",
        "    frontier.add(start_node)\n",
        "\n",
        "    explored = set()\n",
        "\n",
        "    while not frontier.empty():\n",
        "        node = frontier.remove()\n",
        "        if node.state == goal:\n",
        "            # Goal reached, reconstruct path\n",
        "            path = []\n",
        "            while node.parent is not None:\n",
        "                path.append(node.state)\n",
        "                node = node.parent\n",
        "            path.append(start)\n",
        "            path.reverse()\n",
        "            return path\n",
        "\n",
        "        explored.add(node.state)\n",
        "\n",
        "        for action, (dr, dc) in actions.items():\n",
        "            r, c = node.state[0] + dr, node.state[1] + dc\n",
        "            if 0 <= r < rows and 0 <= c < cols and maze[r][c] == 0:\n",
        "                next_state = (r, c)\n",
        "                if next_state not in explored and not frontier.contains_state(next_state):\n",
        "                    child = Node(state=next_state, parent=node, action=action)\n",
        "                    frontier.add(child)\n",
        "    return None\n"
      ],
      "metadata": {
        "id": "Cl7d9b3nTZ4S"
      },
      "execution_count": 22,
      "outputs": []
    },
    {
      "cell_type": "code",
      "source": [
        "dfs_path = solve_maze(maze, start, goal, use_dfs=True)\n",
        "print(\"DFS Path:\", dfs_path)\n"
      ],
      "metadata": {
        "colab": {
          "base_uri": "https://localhost:8080/"
        },
        "id": "xSkDlpXHUiQo",
        "outputId": "7768b8ca-480a-4010-bacd-a619c7284d31"
      },
      "execution_count": 23,
      "outputs": [
        {
          "output_type": "stream",
          "name": "stdout",
          "text": [
            "DFS Path: [(4, 0), (4, 1), (4, 2), (3, 2), (3, 3), (3, 4), (2, 4), (1, 4), (0, 4)]\n"
          ]
        }
      ]
    },
    {
      "cell_type": "code",
      "source": [
        "bfs_path = solve_maze(maze, start, goal, use_dfs=False)\n",
        "print(\"BFS Path:\", bfs_path)"
      ],
      "metadata": {
        "colab": {
          "base_uri": "https://localhost:8080/"
        },
        "id": "7Q8s9vE7UrAQ",
        "outputId": "510c7bd6-d621-4478-c919-84e4311c312c"
      },
      "execution_count": 24,
      "outputs": [
        {
          "output_type": "stream",
          "name": "stdout",
          "text": [
            "BFS Path: [(4, 0), (3, 0), (2, 0), (2, 1), (1, 1), (0, 1), (0, 2), (0, 3), (0, 4)]\n"
          ]
        }
      ]
    }
  ]
}
